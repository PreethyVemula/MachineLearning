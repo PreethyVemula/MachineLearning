{
 "cells": [
  {
   "cell_type": "code",
   "execution_count": 1,
   "metadata": {},
   "outputs": [],
   "source": [
    "# Python ≥3.5 is required\n",
    "import sys\n",
    "assert sys.version_info >= (3, 5)\n",
    "\n",
    "# Scikit-Learn ≥0.20 is required\n",
    "import sklearn\n",
    "assert sklearn.__version__ >= \"0.20\"\n",
    "\n",
    "# Common imports\n",
    "import numpy as np\n",
    "import os\n",
    "import logging\n",
    "# to make this notebook's output stable across runs\n",
    "np.random.seed(42)\n",
    "\n",
    "# To plot pretty figures\n",
    "%matplotlib inline\n",
    "import matplotlib as mpl\n",
    "import matplotlib.pyplot as plt\n",
    "mpl.rc('axes', labelsize=14)\n",
    "mpl.rc('xtick', labelsize=12)\n",
    "mpl.rc('ytick', labelsize=12)\n",
    "\n",
    "# Where to save the figures\n",
    "PROJECT_ROOT_DIR = \".\"\n",
    "IMAGES_PATH = os.path.join(PROJECT_ROOT_DIR, \"images\")\n",
    "os.makedirs(IMAGES_PATH, exist_ok=True)\n",
    "\n",
    "def save_fig(fig_id, tight_layout=True, fig_extension=\"png\", resolution=300):\n",
    "    path = os.path.join(IMAGES_PATH, fig_id + \".\" + fig_extension)\n",
    "    print(\"Saving figure\", fig_id)\n",
    "    if tight_layout:\n",
    "        plt.tight_layout()\n",
    "    plt.savefig(path, format=fig_extension, dpi=resolution)\n",
    "\n",
    "# Ignore useless warnings (see SciPy issue #5998)\n",
    "import warnings\n",
    "warnings.filterwarnings(action=\"ignore\", message=\"^internal gelsd\")"
   ]
  },
  {
   "cell_type": "markdown",
   "metadata": {},
   "source": [
    "# Get the data"
   ]
  },
  {
   "cell_type": "code",
   "execution_count": 7,
   "metadata": {},
   "outputs": [
    {
     "name": "stdout",
     "output_type": "stream",
     "text": [
      "The data set is loaded\n"
     ]
    }
   ],
   "source": [
    "import pandas as pd\n",
    "\n",
    "train_data_path = '/Users/preethi/Desktop/illness_datasetnew.csv'\n",
    "#test_data_path = '/Users/preethi/Downloads/CaseStudy/src/test_data_X.csv'\n",
    "    \n",
    "def load_data():\n",
    "        \"\"\"\n",
    "        This method used to load train and test data\n",
    "        :return: None\n",
    "        \"\"\"\n",
    "        try:\n",
    "            train_dataset = pd.read_csv(train_data_path)\n",
    "            #test_dataset = pd.read_csv(test_data_path)\n",
    "        except FileNotFoundError as ex:\n",
    "            logging.error(ex)\n",
    "            raise ex\n",
    "        \n",
    "        return train_dataset\n",
    "        \n",
    "print('The data set is loaded')"
   ]
  },
  {
   "cell_type": "code",
   "execution_count": 8,
   "metadata": {},
   "outputs": [],
   "source": [
    "train_dataset = load_data()"
   ]
  },
  {
   "cell_type": "code",
   "execution_count": 9,
   "metadata": {},
   "outputs": [
    {
     "name": "stdout",
     "output_type": "stream",
     "text": [
      "The Training data set is \n"
     ]
    },
    {
     "data": {
      "text/html": [
       "<div>\n",
       "<style scoped>\n",
       "    .dataframe tbody tr th:only-of-type {\n",
       "        vertical-align: middle;\n",
       "    }\n",
       "\n",
       "    .dataframe tbody tr th {\n",
       "        vertical-align: top;\n",
       "    }\n",
       "\n",
       "    .dataframe thead th {\n",
       "        text-align: right;\n",
       "    }\n",
       "</style>\n",
       "<table border=\"1\" class=\"dataframe\">\n",
       "  <thead>\n",
       "    <tr style=\"text-align: right;\">\n",
       "      <th></th>\n",
       "      <th>Number</th>\n",
       "      <th>City</th>\n",
       "      <th>Gender</th>\n",
       "      <th>Age</th>\n",
       "      <th>Income</th>\n",
       "      <th>Illness</th>\n",
       "    </tr>\n",
       "  </thead>\n",
       "  <tbody>\n",
       "    <tr>\n",
       "      <th>0</th>\n",
       "      <td>1</td>\n",
       "      <td>Dallas</td>\n",
       "      <td>Male</td>\n",
       "      <td>41</td>\n",
       "      <td>40367</td>\n",
       "      <td>No</td>\n",
       "    </tr>\n",
       "    <tr>\n",
       "      <th>1</th>\n",
       "      <td>2</td>\n",
       "      <td>Dallas</td>\n",
       "      <td>Male</td>\n",
       "      <td>54</td>\n",
       "      <td>45084</td>\n",
       "      <td>No</td>\n",
       "    </tr>\n",
       "    <tr>\n",
       "      <th>2</th>\n",
       "      <td>3</td>\n",
       "      <td>Dallas</td>\n",
       "      <td>Male</td>\n",
       "      <td>42</td>\n",
       "      <td>52483</td>\n",
       "      <td>No</td>\n",
       "    </tr>\n",
       "    <tr>\n",
       "      <th>3</th>\n",
       "      <td>4</td>\n",
       "      <td>Dallas</td>\n",
       "      <td>Male</td>\n",
       "      <td>40</td>\n",
       "      <td>40941</td>\n",
       "      <td>No</td>\n",
       "    </tr>\n",
       "    <tr>\n",
       "      <th>4</th>\n",
       "      <td>5</td>\n",
       "      <td>Dallas</td>\n",
       "      <td>Male</td>\n",
       "      <td>46</td>\n",
       "      <td>50289</td>\n",
       "      <td>Yes</td>\n",
       "    </tr>\n",
       "  </tbody>\n",
       "</table>\n",
       "</div>"
      ],
      "text/plain": [
       "   Number    City Gender  Age  Income Illness\n",
       "0       1  Dallas   Male   41   40367      No\n",
       "1       2  Dallas   Male   54   45084      No\n",
       "2       3  Dallas   Male   42   52483      No\n",
       "3       4  Dallas   Male   40   40941      No\n",
       "4       5  Dallas   Male   46   50289     Yes"
      ]
     },
     "execution_count": 9,
     "metadata": {},
     "output_type": "execute_result"
    }
   ],
   "source": [
    "print('The Training data set is ')\n",
    "train_dataset.head()"
   ]
  },
  {
   "cell_type": "code",
   "execution_count": 10,
   "metadata": {},
   "outputs": [
    {
     "name": "stdout",
     "output_type": "stream",
     "text": [
      "The Training data Info\n",
      "<class 'pandas.core.frame.DataFrame'>\n",
      "RangeIndex: 150000 entries, 0 to 149999\n",
      "Data columns (total 6 columns):\n",
      " #   Column   Non-Null Count   Dtype \n",
      "---  ------   --------------   ----- \n",
      " 0   Number   150000 non-null  int64 \n",
      " 1   City     150000 non-null  object\n",
      " 2   Gender   150000 non-null  object\n",
      " 3   Age      150000 non-null  int64 \n",
      " 4   Income   150000 non-null  int64 \n",
      " 5   Illness  150000 non-null  object\n",
      "dtypes: int64(3), object(3)\n",
      "memory usage: 6.9+ MB\n"
     ]
    }
   ],
   "source": [
    "print('The Training data Info')\n",
    "train_dataset.info()"
   ]
  },
  {
   "cell_type": "code",
   "execution_count": 11,
   "metadata": {},
   "outputs": [
    {
     "data": {
      "text/plain": [
       "Number     0\n",
       "City       0\n",
       "Gender     0\n",
       "Age        0\n",
       "Income     0\n",
       "Illness    0\n",
       "dtype: int64"
      ]
     },
     "execution_count": 11,
     "metadata": {},
     "output_type": "execute_result"
    }
   ],
   "source": [
    "train_dataset.isnull().sum()"
   ]
  },
  {
   "cell_type": "code",
   "execution_count": 12,
   "metadata": {},
   "outputs": [
    {
     "data": {
      "text/html": [
       "<div>\n",
       "<style scoped>\n",
       "    .dataframe tbody tr th:only-of-type {\n",
       "        vertical-align: middle;\n",
       "    }\n",
       "\n",
       "    .dataframe tbody tr th {\n",
       "        vertical-align: top;\n",
       "    }\n",
       "\n",
       "    .dataframe thead th {\n",
       "        text-align: right;\n",
       "    }\n",
       "</style>\n",
       "<table border=\"1\" class=\"dataframe\">\n",
       "  <thead>\n",
       "    <tr style=\"text-align: right;\">\n",
       "      <th></th>\n",
       "      <th>Number</th>\n",
       "      <th>Age</th>\n",
       "      <th>Income</th>\n",
       "    </tr>\n",
       "  </thead>\n",
       "  <tbody>\n",
       "    <tr>\n",
       "      <th>count</th>\n",
       "      <td>150000.000000</td>\n",
       "      <td>150000.000000</td>\n",
       "      <td>150000.000000</td>\n",
       "    </tr>\n",
       "    <tr>\n",
       "      <th>mean</th>\n",
       "      <td>75000.500000</td>\n",
       "      <td>44.950200</td>\n",
       "      <td>91252.802633</td>\n",
       "    </tr>\n",
       "    <tr>\n",
       "      <th>std</th>\n",
       "      <td>43301.414527</td>\n",
       "      <td>11.572486</td>\n",
       "      <td>24989.484970</td>\n",
       "    </tr>\n",
       "    <tr>\n",
       "      <th>min</th>\n",
       "      <td>1.000000</td>\n",
       "      <td>25.000000</td>\n",
       "      <td>0.000000</td>\n",
       "    </tr>\n",
       "    <tr>\n",
       "      <th>25%</th>\n",
       "      <td>37500.750000</td>\n",
       "      <td>35.000000</td>\n",
       "      <td>80867.750000</td>\n",
       "    </tr>\n",
       "    <tr>\n",
       "      <th>50%</th>\n",
       "      <td>75000.500000</td>\n",
       "      <td>45.000000</td>\n",
       "      <td>93655.000000</td>\n",
       "    </tr>\n",
       "    <tr>\n",
       "      <th>75%</th>\n",
       "      <td>112500.250000</td>\n",
       "      <td>55.000000</td>\n",
       "      <td>104519.000000</td>\n",
       "    </tr>\n",
       "    <tr>\n",
       "      <th>max</th>\n",
       "      <td>150000.000000</td>\n",
       "      <td>65.000000</td>\n",
       "      <td>177157.000000</td>\n",
       "    </tr>\n",
       "  </tbody>\n",
       "</table>\n",
       "</div>"
      ],
      "text/plain": [
       "              Number            Age         Income\n",
       "count  150000.000000  150000.000000  150000.000000\n",
       "mean    75000.500000      44.950200   91252.802633\n",
       "std     43301.414527      11.572486   24989.484970\n",
       "min         1.000000      25.000000       0.000000\n",
       "25%     37500.750000      35.000000   80867.750000\n",
       "50%     75000.500000      45.000000   93655.000000\n",
       "75%    112500.250000      55.000000  104519.000000\n",
       "max    150000.000000      65.000000  177157.000000"
      ]
     },
     "execution_count": 12,
     "metadata": {},
     "output_type": "execute_result"
    }
   ],
   "source": [
    "train_dataset.describe()"
   ]
  },
  {
   "cell_type": "code",
   "execution_count": 13,
   "metadata": {},
   "outputs": [
    {
     "name": "stdout",
     "output_type": "stream",
     "text": [
      "Saving figure attribute_histogram_plots\n"
     ]
    },
    {
     "data": {
      "image/png": "[encoded data removed]",
      "text/plain": [
       "<Figure size 1440x1080 with 4 Axes>"
      ]
     },
     "metadata": {
      "needs_background": "light"
     },
     "output_type": "display_data"
    }
   ],
   "source": [
    "%matplotlib inline\n",
    "import matplotlib.pyplot as plt\n",
    "train_dataset.hist(bins=50, figsize=(20,15))\n",
    "save_fig(\"attribute_histogram_plots\")\n",
    "plt.show()"
   ]
  },
  {
   "cell_type": "code",
   "execution_count": 29,
   "metadata": {},
   "outputs": [],
   "source": [
    "import numpy as np\n",
    "np.random.seed(42)"
   ]
  },
  {
   "cell_type": "code",
   "execution_count": 30,
   "metadata": {},
   "outputs": [],
   "source": [
    "from sklearn.model_selection import train_test_split\n",
    "\n",
    "train_set, test_set = train_test_split(train_dataset, test_size=0.2, random_state=42)"
   ]
  },
  {
   "cell_type": "code",
   "execution_count": 16,
   "metadata": {},
   "outputs": [
    {
     "data": {
      "text/html": [
       "<div>\n",
       "<style scoped>\n",
       "    .dataframe tbody tr th:only-of-type {\n",
       "        vertical-align: middle;\n",
       "    }\n",
       "\n",
       "    .dataframe tbody tr th {\n",
       "        vertical-align: top;\n",
       "    }\n",
       "\n",
       "    .dataframe thead th {\n",
       "        text-align: right;\n",
       "    }\n",
       "</style>\n",
       "<table border=\"1\" class=\"dataframe\">\n",
       "  <thead>\n",
       "    <tr style=\"text-align: right;\">\n",
       "      <th></th>\n",
       "      <th>Number</th>\n",
       "      <th>City</th>\n",
       "      <th>Gender</th>\n",
       "      <th>Age</th>\n",
       "      <th>Income</th>\n",
       "      <th>Illness</th>\n",
       "    </tr>\n",
       "  </thead>\n",
       "  <tbody>\n",
       "    <tr>\n",
       "      <th>59770</th>\n",
       "      <td>59771</td>\n",
       "      <td>New York City</td>\n",
       "      <td>Male</td>\n",
       "      <td>49</td>\n",
       "      <td>102931</td>\n",
       "      <td>No</td>\n",
       "    </tr>\n",
       "    <tr>\n",
       "      <th>21362</th>\n",
       "      <td>21363</td>\n",
       "      <td>New York City</td>\n",
       "      <td>Male</td>\n",
       "      <td>45</td>\n",
       "      <td>99505</td>\n",
       "      <td>Yes</td>\n",
       "    </tr>\n",
       "    <tr>\n",
       "      <th>127324</th>\n",
       "      <td>127325</td>\n",
       "      <td>Washington D.C.</td>\n",
       "      <td>Male</td>\n",
       "      <td>40</td>\n",
       "      <td>67579</td>\n",
       "      <td>No</td>\n",
       "    </tr>\n",
       "    <tr>\n",
       "      <th>140509</th>\n",
       "      <td>140510</td>\n",
       "      <td>Austin</td>\n",
       "      <td>Male</td>\n",
       "      <td>37</td>\n",
       "      <td>90818</td>\n",
       "      <td>No</td>\n",
       "    </tr>\n",
       "    <tr>\n",
       "      <th>144297</th>\n",
       "      <td>144298</td>\n",
       "      <td>Austin</td>\n",
       "      <td>Male</td>\n",
       "      <td>65</td>\n",
       "      <td>89077</td>\n",
       "      <td>No</td>\n",
       "    </tr>\n",
       "  </tbody>\n",
       "</table>\n",
       "</div>"
      ],
      "text/plain": [
       "        Number             City Gender  Age  Income Illness\n",
       "59770    59771    New York City   Male   49  102931      No\n",
       "21362    21363    New York City   Male   45   99505     Yes\n",
       "127324  127325  Washington D.C.   Male   40   67579      No\n",
       "140509  140510           Austin   Male   37   90818      No\n",
       "144297  144298           Austin   Male   65   89077      No"
      ]
     },
     "execution_count": 16,
     "metadata": {},
     "output_type": "execute_result"
    }
   ],
   "source": [
    "test_set.head()"
   ]
  },
  {
   "cell_type": "markdown",
   "metadata": {},
   "source": [
    "# Prepare the data set"
   ]
  },
  {
   "cell_type": "code",
   "execution_count": 32,
   "metadata": {},
   "outputs": [],
   "source": [
    "from sklearn.impute import SimpleImputer\n",
    "from sklearn.preprocessing import LabelEncoder\n",
    "\n",
    "prediction_column = [\"Illness\"]\n",
    "def preprocess_data(input_df):\n",
    "        \"\"\"\n",
    "        This method used to pre-process the data\n",
    "        :param input_df: input data frame to pre-process the data\n",
    "        :return: processed data set\n",
    "        \"\"\"\n",
    "        dict_illness = {'No': 0, 'Yes': 1}\n",
    "        dict_sex = {'Male': 0, 'Female': 1}\n",
    "        simple_imputer = SimpleImputer(strategy='mean')\n",
    "\n",
    "        # Id_Number,City,Gender,Age,Weight,Illness\n",
    "        data_columns = list(input_df.columns)\n",
    "        processed_dataset = input_df[data_columns].dropna()\n",
    "\n",
    "        simple_imputer.fit(processed_dataset[['Age']])\n",
    "        processed_dataset[['Age']] = simple_imputer.transform(processed_dataset[['Age']])\n",
    "\n",
    "        if \"Illness\" in data_columns:\n",
    "            processed_dataset['Illness'] = processed_dataset[prediction_column].replace(dict_illness)\n",
    "\n",
    "        processed_dataset['Gender'] = processed_dataset['Gender'].replace(dict_sex)\n",
    "        label_encoder = LabelEncoder()\n",
    "        processed_dataset['City'] = label_encoder.fit(processed_dataset[\"City\"])\\\n",
    "                                    .transform(processed_dataset[\"City\"])\n",
    "\n",
    "        return processed_dataset"
   ]
  },
  {
   "cell_type": "code",
   "execution_count": 33,
   "metadata": {},
   "outputs": [],
   "source": [
    "final_processed_train_dataset = preprocess_data(train_dataset)\n",
    "#final_processed_test_dataset = preprocess_data(test_dataset)"
   ]
  },
  {
   "cell_type": "markdown",
   "metadata": {},
   "source": [
    "# Select and train a model "
   ]
  },
  {
   "cell_type": "code",
   "execution_count": 34,
   "metadata": {},
   "outputs": [],
   "source": [
    "feature_list = list(final_processed_train_dataset.columns)\n",
    "\n",
    "feature_index = '123'\n",
    "\n",
    "selected_features = [feature_list[int(feature_index)-1] for feature_index in str(feature_index)]\n",
    "\n",
    "    \n",
    "def split_train_dataset():\n",
    "    \"\"\"\n",
    "    This method will split the input training data set and select the user features\n",
    "    :return: X axis training data set , Y axis training data set,\n",
    "     X axis validation data set  and Y axis validation data set\n",
    "    \"\"\"\n",
    "    print(f'Features selected: {selected_features}')\n",
    "\n",
    "    train_size = 0.08\n",
    "\n",
    "    x_train, x_validation, y_train, y_validation = \\\n",
    "        train_test_split(final_processed_train_dataset[selected_features],\n",
    "                         final_processed_train_dataset[prediction_column], train_size=train_size)\n",
    "\n",
    "    return x_train, x_validation, y_train, y_validation"
   ]
  },
  {
   "cell_type": "code",
   "execution_count": 35,
   "metadata": {},
   "outputs": [
    {
     "name": "stdout",
     "output_type": "stream",
     "text": [
      "Features selected: ['Number', 'City', 'Gender']\n"
     ]
    }
   ],
   "source": [
    "x_train, x_validation, y_train, y_validation = split_train_dataset()"
   ]
  },
  {
   "cell_type": "code",
   "execution_count": 21,
   "metadata": {},
   "outputs": [],
   "source": [
    "import pickle\n",
    "import time\n",
    "import logging\n",
    "\n",
    "\n",
    "from sklearn.model_selection import train_test_split\n",
    "from sklearn.ensemble._forest import RandomForestClassifier\n",
    "from sklearn.tree import DecisionTreeClassifier\n",
    "from sklearn.ensemble import GradientBoostingRegressor\n",
    "from sklearn.metrics import confusion_matrix\n",
    "    \n",
    "def build_model(x_train_data=None, y_train_data=None):\n",
    "    \"\"\"\n",
    "    BUILD REGRESSION MODEL WITH 0.68 and it will be > 91%\n",
    "    This method will receive X , Y training data set and build a model based on user choice\n",
    "    :param x_train_data: X axis training data set\n",
    "    :param y_train_data: Y axis training data set\n",
    "    :return: None\n",
    "    \"\"\"\n",
    "\n",
    "\n",
    "    clf = DecisionTreeClassifier().fit(x_train_data, y_train_data)\n",
    "\n",
    "    model_save_flag = 'Y'\n",
    "\n",
    "    if model_save_flag.upper() == 'Y':\n",
    "        t_stamp = time.strftime(\"%Y%m%d-%H%M%S\")\n",
    "        model_file = f\"{t_stamp}.DecisionTreeClassifier.pickle\"\n",
    "        with open(model_file, 'wb') as model_file_ref:\n",
    "            pickle.dump(clf, model_file_ref)\n",
    "\n",
    "        print(f'The model is built and saved as {model_file}...')\n",
    "\n",
    "    return clf\n"
   ]
  },
  {
   "cell_type": "code",
   "execution_count": 22,
   "metadata": {},
   "outputs": [
    {
     "name": "stdout",
     "output_type": "stream",
     "text": [
      "The model is built and saved as 20201116-164207.DecisionTreeClassifier.pickle...\n"
     ]
    }
   ],
   "source": [
    "selected_model = build_model(x_train_data=x_train, y_train_data=y_train)"
   ]
  },
  {
   "cell_type": "code",
   "execution_count": null,
   "metadata": {},
   "outputs": [],
   "source": [
    "# Execute Model and Predict "
   ]
  },
  {
   "cell_type": "code",
   "execution_count": 40,
   "metadata": {},
   "outputs": [],
   "source": [
    "\n",
    "test_data_output_csv = \"test_data_y_pred.csv\"\n",
    "def execute_model_prediction(x_validation, y_validation):\n",
    "        \"\"\"\n",
    "        This method will execute the model predictions and save the predictions\n",
    "        :param x_validation: X axis validation set\n",
    "        :param y_validation: Y axis validation set\n",
    "        :return: None\n",
    "        \"\"\"\n",
    "        accuracy = selected_model.score(x_validation, y_validation)\n",
    "\n",
    "        print(f'The accuracy of the model is {accuracy:.5f}')\n",
    "\n",
    "        #print(\"Do you want to see the confusion matrix? (y/n)\")\n",
    "\n",
    "        confuse_mtx_flag = 'Y' #str(input().strip())\n",
    "\n",
    "        y_pred = selected_model.predict(x_validation)\n",
    "\n",
    "        if confuse_mtx_flag.upper() == 'Y':\n",
    "            print(confusion_matrix(y_validation, y_pred))\n",
    "\n",
    "        #print(\"Do you want to save the outcome for the test data ? (y/n)\")\n",
    "\n",
    "        outcome_flag = 'Y' #str(input().strip())\n",
    "\n",
    "        if outcome_flag.upper() == 'Y':\n",
    "            #y_pred = selected_model.predict(final_processed_test_dataset[selected_features])\n",
    "            final_df = pd.DataFrame(y_pred,columns=[\"Illness\"])\n",
    "            #final_result_df = self.test_dataset.append(final_df[\"Illness\"])\n",
    "            list_of_values = final_df[\"Illness\"].tolist()\n",
    "            #final_processed_test_dataset[\"Illness\"] = list_of_values\n",
    "            #final_processed_test_dataset.to_csv(test_data_output_csv)\n",
    "           "
   ]
  },
  {
   "cell_type": "code",
   "execution_count": 41,
   "metadata": {},
   "outputs": [
    {
     "name": "stdout",
     "output_type": "stream",
     "text": [
      "The accuracy of the model is 0.83155\n",
      "[[113511  12217]\n",
      " [ 11029   1243]]\n"
     ]
    }
   ],
   "source": [
    "execute_model_prediction(x_validation, y_validation)"
   ]
  },
  {
   "cell_type": "code",
   "execution_count": null,
   "metadata": {},
   "outputs": [],
   "source": [
    "#Random forest"
   ]
  },
  {
   "cell_type": "code",
   "execution_count": 42,
   "metadata": {},
   "outputs": [],
   "source": [
    "import pickle\n",
    "import time\n",
    "import logging\n",
    "warnings.filterwarnings(action=\"ignore\", message=\"^internal gelsd\")\n",
    "\n",
    "from sklearn.model_selection import train_test_split\n",
    "from sklearn.ensemble._forest import RandomForestClassifier\n",
    "from sklearn.tree import DecisionTreeClassifier\n",
    "from sklearn.ensemble import GradientBoostingRegressor\n",
    "from sklearn.metrics import confusion_matrix\n",
    "    \n",
    "def build_model(x_train_data=None, y_train_data=None):\n",
    "    \"\"\"\n",
    "    BUILD REGRESSION MODEL WITH 0.68 and it will be > 91%\n",
    "    This method will receive X , Y training data set and build a model based on user choice\n",
    "    :param x_train_data: X axis training data set\n",
    "    :param y_train_data: Y axis training data set\n",
    "    :return: None\n",
    "    \"\"\"\n",
    "\n",
    "\n",
    "    clf = RandomForestClassifier().fit(x_train_data, y_train_data)\n",
    "\n",
    "    model_save_flag = 'Y'\n",
    "\n",
    "    if model_save_flag.upper() == 'Y':\n",
    "        t_stamp = time.strftime(\"%Y%m%d-%H%M%S\")\n",
    "        model_file = f\"{t_stamp}.RandomForestClassifier.pickle\"\n",
    "        with open(model_file, 'wb') as model_file_ref:\n",
    "            pickle.dump(clf, model_file_ref)\n",
    "\n",
    "        print(f'The model is built and saved as {model_file}...')\n",
    "\n",
    "    return clf\n"
   ]
  },
  {
   "cell_type": "code",
   "execution_count": 43,
   "metadata": {},
   "outputs": [
    {
     "name": "stderr",
     "output_type": "stream",
     "text": [
      "<ipython-input-42-581382ad2eb2>:22: DataConversionWarning: A column-vector y was passed when a 1d array was expected. Please change the shape of y to (n_samples,), for example using ravel().\n",
      "  clf = RandomForestClassifier().fit(x_train_data, y_train_data)\n"
     ]
    },
    {
     "name": "stdout",
     "output_type": "stream",
     "text": [
      "The model is built and saved as 20201116-165011.RandomForestClassifier.pickle...\n"
     ]
    }
   ],
   "source": [
    "selected_model = build_model(x_train_data=x_train, y_train_data=y_train)"
   ]
  },
  {
   "cell_type": "code",
   "execution_count": 44,
   "metadata": {},
   "outputs": [],
   "source": [
    "test_data_output_csv = \"test_data_y_pred.csv\"\n",
    "def execute_model_prediction(x_validation, y_validation):\n",
    "        \"\"\"\n",
    "        This method will execute the model predictions and save the predictions\n",
    "        :param x_validation: X axis validation set\n",
    "        :param y_validation: Y axis validation set\n",
    "        :return: None\n",
    "        \"\"\"\n",
    "        accuracy = selected_model.score(x_validation, y_validation)\n",
    "\n",
    "        print(f'The accuracy of the model is {accuracy:.5f}')\n",
    "\n",
    "        #print(\"Do you want to see the confusion matrix? (y/n)\")\n",
    "\n",
    "        confuse_mtx_flag = 'Y' #str(input().strip())\n",
    "\n",
    "        y_pred = selected_model.predict(x_validation)\n",
    "\n",
    "        if confuse_mtx_flag.upper() == 'Y':\n",
    "            print(confusion_matrix(y_validation, y_pred))\n",
    "\n",
    "        #print(\"Do you want to save the outcome for the test data ? (y/n)\")\n",
    "\n",
    "        outcome_flag = 'Y' #str(input().strip())\n",
    "\n",
    "        if outcome_flag.upper() == 'Y':\n",
    "            #y_pred = selected_model.predict(final_processed_test_dataset[selected_features])\n",
    "            final_df = pd.DataFrame(y_pred,columns=[\"Illness\"])\n",
    "            #final_result_df = self.test_dataset.append(final_df[\"Illness\"])\n",
    "            list_of_values = final_df[\"Illness\"].tolist()\n",
    "            #final_processed_test_dataset[\"Illness\"] = list_of_values\n",
    "            #final_processed_test_dataset.to_csv(test_data_output_csv)\n",
    "           "
   ]
  },
  {
   "cell_type": "code",
   "execution_count": 45,
   "metadata": {},
   "outputs": [
    {
     "name": "stdout",
     "output_type": "stream",
     "text": [
      "The accuracy of the model is 0.83381\n",
      "[[113845  11883]\n",
      " [ 11051   1221]]\n"
     ]
    }
   ],
   "source": [
    "execute_model_prediction(x_validation, y_validation)"
   ]
  },
  {
   "cell_type": "code",
   "execution_count": null,
   "metadata": {},
   "outputs": [],
   "source": [
    "#Naive Bayes"
   ]
  },
  {
   "cell_type": "code",
   "execution_count": 46,
   "metadata": {},
   "outputs": [],
   "source": [
    "import pickle\n",
    "import time\n",
    "import logging\n",
    "warnings.filterwarnings(action=\"ignore\", message=\"^internal gelsd\")\n",
    "\n",
    "from sklearn.model_selection import train_test_split\n",
    "from sklearn.ensemble._forest import RandomForestClassifier\n",
    "from sklearn.tree import DecisionTreeClassifier\n",
    "from sklearn.metrics import confusion_matrix\n",
    "from sklearn.naive_bayes import GaussianNB\n",
    "\n",
    "def build_model(x_train_data=None, y_train_data=None):\n",
    "    \"\"\"\n",
    "    BUILD REGRESSION MODEL WITH 0.68 and it will be > 91%\n",
    "    This method will receive X , Y training data set and build a model based on user choice\n",
    "    :param x_train_data: X axis training data set\n",
    "    :param y_train_data: Y axis training data set\n",
    "    :return: None\n",
    "    \"\"\"\n",
    "\n",
    "\n",
    "    clf = GaussianNB().fit(x_train_data, y_train_data)\n",
    "\n",
    "    model_save_flag = 'Y'\n",
    "\n",
    "    if model_save_flag.upper() == 'Y':\n",
    "        t_stamp = time.strftime(\"%Y%m%d-%H%M%S\")\n",
    "        model_file = f\"{t_stamp}.GaussianNB.pickle\"\n",
    "        with open(model_file, 'wb') as model_file_ref:\n",
    "            pickle.dump(clf, model_file_ref)\n",
    "\n",
    "        print(f'The model is built and saved as {model_file}...')\n",
    "\n",
    "    return clf"
   ]
  },
  {
   "cell_type": "code",
   "execution_count": 47,
   "metadata": {},
   "outputs": [
    {
     "name": "stdout",
     "output_type": "stream",
     "text": [
      "The model is built and saved as 20201116-165054.GaussianNB.pickle...\n"
     ]
    },
    {
     "name": "stderr",
     "output_type": "stream",
     "text": [
      "/Users/preethi/Downloads/python3env/lib/python3.9/site-packages/sklearn/utils/validation.py:72: DataConversionWarning: A column-vector y was passed when a 1d array was expected. Please change the shape of y to (n_samples, ), for example using ravel().\n",
      "  return f(**kwargs)\n"
     ]
    }
   ],
   "source": [
    "selected_model = build_model(x_train_data=x_train, y_train_data=y_train)"
   ]
  },
  {
   "cell_type": "code",
   "execution_count": 48,
   "metadata": {},
   "outputs": [],
   "source": [
    "test_data_output_csv = \"test_data_y_pred.csv\"\n",
    "def execute_model_prediction(x_validation, y_validation):\n",
    "        \"\"\"\n",
    "        This method will execute the model predictions and save the predictions\n",
    "        :param x_validation: X axis validation set\n",
    "        :param y_validation: Y axis validation set\n",
    "        :return: None\n",
    "        \"\"\"\n",
    "        accuracy = selected_model.score(x_validation, y_validation)\n",
    "\n",
    "        print(f'The accuracy of the model is {accuracy:.5f}')\n",
    "\n",
    "        #print(\"Do you want to see the confusion matrix? (y/n)\")\n",
    "\n",
    "        confuse_mtx_flag = 'Y' #str(input().strip())\n",
    "\n",
    "        y_pred = selected_model.predict(x_validation)\n",
    "\n",
    "        if confuse_mtx_flag.upper() == 'Y':\n",
    "            print(confusion_matrix(y_validation, y_pred))\n",
    "\n",
    "        #print(\"Do you want to save the outcome for the test data ? (y/n)\")\n",
    "\n",
    "        outcome_flag = 'Y' #str(input().strip())\n",
    "\n",
    "        if outcome_flag.upper() == 'Y':\n",
    "            #y_pred = selected_model.predict(final_processed_test_dataset[selected_features])\n",
    "            final_df = pd.DataFrame(y_pred,columns=[\"Illness\"])\n",
    "            #final_result_df = self.test_dataset.append(final_df[\"Illness\"])\n",
    "            list_of_values = final_df[\"Illness\"].tolist()\n",
    "            #final_processed_test_dataset[\"Illness\"] = list_of_values\n",
    "            #final_processed_test_dataset.to_csv(test_data_output_csv)"
   ]
  },
  {
   "cell_type": "code",
   "execution_count": 49,
   "metadata": {},
   "outputs": [
    {
     "name": "stdout",
     "output_type": "stream",
     "text": [
      "The accuracy of the model is 0.91107\n",
      "[[125728      0]\n",
      " [ 12272      0]]\n"
     ]
    }
   ],
   "source": [
    "execute_model_prediction(x_validation, y_validation)"
   ]
  },
  {
   "cell_type": "code",
   "execution_count": null,
   "metadata": {},
   "outputs": [],
   "source": []
  }
 ],
 "metadata": {
  "kernelspec": {
   "display_name": "Python 3",
   "language": "python",
   "name": "python3"
  },
  "language_info": {
   "codemirror_mode": {
    "name": "ipython",
    "version": 3
   },
   "file_extension": ".py",
   "mimetype": "text/x-python",
   "name": "python",
   "nbconvert_exporter": "python",
   "pygments_lexer": "ipython3",
   "version": "3.9.0"
  }
 },
 "nbformat": 4,
 "nbformat_minor": 4
}
