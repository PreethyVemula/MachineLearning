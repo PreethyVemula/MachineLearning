{
 "cells": [
  {
   "cell_type": "code",
   "execution_count": 51,
   "metadata": {},
   "outputs": [],
   "source": [
    "# Python ≥3.5 is required\n",
    "import sys\n",
    "assert sys.version_info >= (3, 5)\n",
    "\n",
    "# Scikit-Learn ≥0.20 is required\n",
    "import sklearn\n",
    "assert sklearn.__version__ >= \"0.20\"\n",
    "\n",
    "# Common imports\n",
    "import numpy as np\n",
    "import os\n",
    "import logging\n",
    "# to make this notebook's output stable across runs\n",
    "np.random.seed(42)\n",
    "\n",
    "# To plot pretty figures\n",
    "%matplotlib inline\n",
    "import matplotlib as mpl\n",
    "import matplotlib.pyplot as plt\n",
    "mpl.rc('axes', labelsize=14)\n",
    "mpl.rc('xtick', labelsize=12)\n",
    "mpl.rc('ytick', labelsize=12)\n",
    "\n",
    "# Where to save the figures\n",
    "PROJECT_ROOT_DIR = \".\"\n",
    "IMAGES_PATH = os.path.join(PROJECT_ROOT_DIR, \"images\")\n",
    "os.makedirs(IMAGES_PATH, exist_ok=True)\n",
    "\n",
    "def save_fig(fig_id, tight_layout=True, fig_extension=\"png\", resolution=300):\n",
    "    path = os.path.join(IMAGES_PATH, fig_id + \".\" + fig_extension)\n",
    "    print(\"Saving figure\", fig_id)\n",
    "    if tight_layout:\n",
    "        plt.tight_layout()\n",
    "    plt.savefig(path, format=fig_extension, dpi=resolution)\n",
    "\n",
    "# Ignore useless warnings (see SciPy issue #5998)\n",
    "import warnings\n",
    "warnings.filterwarnings(action=\"ignore\", message=\"^internal gelsd\")"
   ]
  },
  {
   "cell_type": "markdown",
   "metadata": {},
   "source": [
    "# Get the data"
   ]
  },
  {
   "cell_type": "code",
   "execution_count": 52,
   "metadata": {},
   "outputs": [
    {
     "name": "stdout",
     "output_type": "stream",
     "text": [
      "The data set is loaded\n"
     ]
    }
   ],
   "source": [
    "import pandas as pd\n",
    "\n",
    "train_data_path = '/Users/preethi/Downloads/CaseStudy/src/train_data.csv'\n",
    "test_data_path = '/Users/preethi/Downloads/CaseStudy/src/test_data_X.csv'\n",
    "    \n",
    "def load_data():\n",
    "        \"\"\"\n",
    "        This method used to load train and test data\n",
    "        :return: None\n",
    "        \"\"\"\n",
    "        try:\n",
    "            train_dataset = pd.read_csv(train_data_path)\n",
    "            test_dataset = pd.read_csv(test_data_path)\n",
    "        except FileNotFoundError as ex:\n",
    "            logging.error(ex)\n",
    "            raise ex\n",
    "        \n",
    "        return train_dataset,test_dataset\n",
    "        \n",
    "print('The data set is loaded')"
   ]
  },
  {
   "cell_type": "code",
   "execution_count": 53,
   "metadata": {},
   "outputs": [],
   "source": [
    "train_dataset,test_dataset = load_data()"
   ]
  },
  {
   "cell_type": "code",
   "execution_count": 54,
   "metadata": {},
   "outputs": [
    {
     "name": "stdout",
     "output_type": "stream",
     "text": [
      "The Training data set is \n"
     ]
    },
    {
     "data": {
      "text/html": [
       "<div>\n",
       "<style scoped>\n",
       "    .dataframe tbody tr th:only-of-type {\n",
       "        vertical-align: middle;\n",
       "    }\n",
       "\n",
       "    .dataframe tbody tr th {\n",
       "        vertical-align: top;\n",
       "    }\n",
       "\n",
       "    .dataframe thead th {\n",
       "        text-align: right;\n",
       "    }\n",
       "</style>\n",
       "<table border=\"1\" class=\"dataframe\">\n",
       "  <thead>\n",
       "    <tr style=\"text-align: right;\">\n",
       "      <th></th>\n",
       "      <th>Id_Number</th>\n",
       "      <th>City</th>\n",
       "      <th>Gender</th>\n",
       "      <th>Age</th>\n",
       "      <th>Weight</th>\n",
       "      <th>Income</th>\n",
       "      <th>Illness</th>\n",
       "    </tr>\n",
       "  </thead>\n",
       "  <tbody>\n",
       "    <tr>\n",
       "      <th>0</th>\n",
       "      <td>38755</td>\n",
       "      <td>New York City</td>\n",
       "      <td>NaN</td>\n",
       "      <td>39</td>\n",
       "      <td>NaN</td>\n",
       "      <td>105745.0</td>\n",
       "      <td>No</td>\n",
       "    </tr>\n",
       "    <tr>\n",
       "      <th>1</th>\n",
       "      <td>120124</td>\n",
       "      <td>Boston</td>\n",
       "      <td>NaN</td>\n",
       "      <td>25</td>\n",
       "      <td>173.0</td>\n",
       "      <td>85777.0</td>\n",
       "      <td>No</td>\n",
       "    </tr>\n",
       "    <tr>\n",
       "      <th>2</th>\n",
       "      <td>8404</td>\n",
       "      <td>Dallas</td>\n",
       "      <td>NaN</td>\n",
       "      <td>40</td>\n",
       "      <td>334.0</td>\n",
       "      <td>45347.0</td>\n",
       "      <td>No</td>\n",
       "    </tr>\n",
       "    <tr>\n",
       "      <th>3</th>\n",
       "      <td>6246</td>\n",
       "      <td>Dallas</td>\n",
       "      <td>NaN</td>\n",
       "      <td>50</td>\n",
       "      <td>NaN</td>\n",
       "      <td>49352.0</td>\n",
       "      <td>No</td>\n",
       "    </tr>\n",
       "    <tr>\n",
       "      <th>4</th>\n",
       "      <td>48787</td>\n",
       "      <td>New York City</td>\n",
       "      <td>NaN</td>\n",
       "      <td>53</td>\n",
       "      <td>259.0</td>\n",
       "      <td>112106.0</td>\n",
       "      <td>No</td>\n",
       "    </tr>\n",
       "  </tbody>\n",
       "</table>\n",
       "</div>"
      ],
      "text/plain": [
       "   Id_Number           City Gender  Age  Weight    Income Illness\n",
       "0      38755  New York City    NaN   39     NaN  105745.0      No\n",
       "1     120124         Boston    NaN   25   173.0   85777.0      No\n",
       "2       8404         Dallas    NaN   40   334.0   45347.0      No\n",
       "3       6246         Dallas    NaN   50     NaN   49352.0      No\n",
       "4      48787  New York City    NaN   53   259.0  112106.0      No"
      ]
     },
     "execution_count": 54,
     "metadata": {},
     "output_type": "execute_result"
    }
   ],
   "source": [
    "print('The Training data set is ')\n",
    "train_dataset.head()"
   ]
  },
  {
   "cell_type": "code",
   "execution_count": 55,
   "metadata": {},
   "outputs": [
    {
     "name": "stdout",
     "output_type": "stream",
     "text": [
      "The Test data set is \n"
     ]
    },
    {
     "data": {
      "text/html": [
       "<div>\n",
       "<style scoped>\n",
       "    .dataframe tbody tr th:only-of-type {\n",
       "        vertical-align: middle;\n",
       "    }\n",
       "\n",
       "    .dataframe tbody tr th {\n",
       "        vertical-align: top;\n",
       "    }\n",
       "\n",
       "    .dataframe thead th {\n",
       "        text-align: right;\n",
       "    }\n",
       "</style>\n",
       "<table border=\"1\" class=\"dataframe\">\n",
       "  <thead>\n",
       "    <tr style=\"text-align: right;\">\n",
       "      <th></th>\n",
       "      <th>Id_Number</th>\n",
       "      <th>City</th>\n",
       "      <th>Gender</th>\n",
       "      <th>Age</th>\n",
       "      <th>Weight</th>\n",
       "      <th>Income</th>\n",
       "    </tr>\n",
       "  </thead>\n",
       "  <tbody>\n",
       "    <tr>\n",
       "      <th>0</th>\n",
       "      <td>41643</td>\n",
       "      <td>New York City</td>\n",
       "      <td>Male</td>\n",
       "      <td>58</td>\n",
       "      <td>NaN</td>\n",
       "      <td>120770.0</td>\n",
       "    </tr>\n",
       "    <tr>\n",
       "      <th>1</th>\n",
       "      <td>70418</td>\n",
       "      <td>Los Angeles</td>\n",
       "      <td>Male</td>\n",
       "      <td>28</td>\n",
       "      <td>NaN</td>\n",
       "      <td>95036.0</td>\n",
       "    </tr>\n",
       "    <tr>\n",
       "      <th>2</th>\n",
       "      <td>134350</td>\n",
       "      <td>San Diego</td>\n",
       "      <td>Male</td>\n",
       "      <td>45</td>\n",
       "      <td>176.0</td>\n",
       "      <td>109408.0</td>\n",
       "    </tr>\n",
       "    <tr>\n",
       "      <th>3</th>\n",
       "      <td>31406</td>\n",
       "      <td>New York City</td>\n",
       "      <td>Female</td>\n",
       "      <td>33</td>\n",
       "      <td>145.0</td>\n",
       "      <td>92108.0</td>\n",
       "    </tr>\n",
       "    <tr>\n",
       "      <th>4</th>\n",
       "      <td>67669</td>\n",
       "      <td>New York City</td>\n",
       "      <td>Male</td>\n",
       "      <td>52</td>\n",
       "      <td>136.0</td>\n",
       "      <td>100554.0</td>\n",
       "    </tr>\n",
       "  </tbody>\n",
       "</table>\n",
       "</div>"
      ],
      "text/plain": [
       "   Id_Number           City  Gender  Age  Weight    Income\n",
       "0      41643  New York City    Male   58     NaN  120770.0\n",
       "1      70418    Los Angeles    Male   28     NaN   95036.0\n",
       "2     134350      San Diego    Male   45   176.0  109408.0\n",
       "3      31406  New York City  Female   33   145.0   92108.0\n",
       "4      67669  New York City    Male   52   136.0  100554.0"
      ]
     },
     "execution_count": 55,
     "metadata": {},
     "output_type": "execute_result"
    }
   ],
   "source": [
    "print('The Test data set is ')\n",
    "test_dataset.head()"
   ]
  },
  {
   "cell_type": "code",
   "execution_count": 28,
   "metadata": {},
   "outputs": [
    {
     "name": "stdout",
     "output_type": "stream",
     "text": [
      "The Training data Info\n",
      "<class 'pandas.core.frame.DataFrame'>\n",
      "RangeIndex: 112500 entries, 0 to 112499\n",
      "Data columns (total 7 columns):\n",
      " #   Column     Non-Null Count   Dtype  \n",
      "---  ------     --------------   -----  \n",
      " 0   Id_Number  112500 non-null  int64  \n",
      " 1   City       109125 non-null  object \n",
      " 2   Gender     106875 non-null  object \n",
      " 3   Age        112500 non-null  int64  \n",
      " 4   Weight     56151 non-null   float64\n",
      " 5   Income     112500 non-null  float64\n",
      " 6   Illness    112500 non-null  object \n",
      "dtypes: float64(2), int64(2), object(3)\n",
      "memory usage: 6.0+ MB\n"
     ]
    }
   ],
   "source": [
    "print('The Training data Info')\n",
    "train_dataset.info()"
   ]
  },
  {
   "cell_type": "code",
   "execution_count": 56,
   "metadata": {},
   "outputs": [
    {
     "data": {
      "text/plain": [
       "Id_Number        0\n",
       "City          3375\n",
       "Gender        5625\n",
       "Age              0\n",
       "Weight       56349\n",
       "Income           0\n",
       "Illness          0\n",
       "dtype: int64"
      ]
     },
     "execution_count": 56,
     "metadata": {},
     "output_type": "execute_result"
    }
   ],
   "source": [
    "train_dataset.isnull().sum()"
   ]
  },
  {
   "cell_type": "code",
   "execution_count": 57,
   "metadata": {},
   "outputs": [
    {
     "data": {
      "text/html": [
       "<div>\n",
       "<style scoped>\n",
       "    .dataframe tbody tr th:only-of-type {\n",
       "        vertical-align: middle;\n",
       "    }\n",
       "\n",
       "    .dataframe tbody tr th {\n",
       "        vertical-align: top;\n",
       "    }\n",
       "\n",
       "    .dataframe thead th {\n",
       "        text-align: right;\n",
       "    }\n",
       "</style>\n",
       "<table border=\"1\" class=\"dataframe\">\n",
       "  <thead>\n",
       "    <tr style=\"text-align: right;\">\n",
       "      <th></th>\n",
       "      <th>Id_Number</th>\n",
       "      <th>Age</th>\n",
       "      <th>Weight</th>\n",
       "      <th>Income</th>\n",
       "    </tr>\n",
       "  </thead>\n",
       "  <tbody>\n",
       "    <tr>\n",
       "      <th>count</th>\n",
       "      <td>112500.000000</td>\n",
       "      <td>112500.000000</td>\n",
       "      <td>56151.000000</td>\n",
       "      <td>112500.000000</td>\n",
       "    </tr>\n",
       "    <tr>\n",
       "      <th>mean</th>\n",
       "      <td>74943.654622</td>\n",
       "      <td>41.502089</td>\n",
       "      <td>203.709729</td>\n",
       "      <td>91258.114818</td>\n",
       "    </tr>\n",
       "    <tr>\n",
       "      <th>std</th>\n",
       "      <td>43288.891678</td>\n",
       "      <td>16.732520</td>\n",
       "      <td>67.113088</td>\n",
       "      <td>24953.718012</td>\n",
       "    </tr>\n",
       "    <tr>\n",
       "      <th>min</th>\n",
       "      <td>1.000000</td>\n",
       "      <td>-1.000000</td>\n",
       "      <td>80.000000</td>\n",
       "      <td>584.000000</td>\n",
       "    </tr>\n",
       "    <tr>\n",
       "      <th>25%</th>\n",
       "      <td>37459.750000</td>\n",
       "      <td>32.000000</td>\n",
       "      <td>149.000000</td>\n",
       "      <td>80890.000000</td>\n",
       "    </tr>\n",
       "    <tr>\n",
       "      <th>50%</th>\n",
       "      <td>74915.500000</td>\n",
       "      <td>42.000000</td>\n",
       "      <td>208.000000</td>\n",
       "      <td>93633.000000</td>\n",
       "    </tr>\n",
       "    <tr>\n",
       "      <th>75%</th>\n",
       "      <td>112355.250000</td>\n",
       "      <td>55.000000</td>\n",
       "      <td>249.000000</td>\n",
       "      <td>104501.000000</td>\n",
       "    </tr>\n",
       "    <tr>\n",
       "      <th>max</th>\n",
       "      <td>149999.000000</td>\n",
       "      <td>65.000000</td>\n",
       "      <td>399.000000</td>\n",
       "      <td>177157.000000</td>\n",
       "    </tr>\n",
       "  </tbody>\n",
       "</table>\n",
       "</div>"
      ],
      "text/plain": [
       "           Id_Number            Age        Weight         Income\n",
       "count  112500.000000  112500.000000  56151.000000  112500.000000\n",
       "mean    74943.654622      41.502089    203.709729   91258.114818\n",
       "std     43288.891678      16.732520     67.113088   24953.718012\n",
       "min         1.000000      -1.000000     80.000000     584.000000\n",
       "25%     37459.750000      32.000000    149.000000   80890.000000\n",
       "50%     74915.500000      42.000000    208.000000   93633.000000\n",
       "75%    112355.250000      55.000000    249.000000  104501.000000\n",
       "max    149999.000000      65.000000    399.000000  177157.000000"
      ]
     },
     "execution_count": 57,
     "metadata": {},
     "output_type": "execute_result"
    }
   ],
   "source": [
    "train_dataset.describe()"
   ]
  },
  {
   "cell_type": "code",
   "execution_count": 58,
   "metadata": {},
   "outputs": [
    {
     "name": "stdout",
     "output_type": "stream",
     "text": [
      "Saving figure attribute_histogram_plots\n"
     ]
    },
    {
     "data": {
      "image/png": "[encoded data removed]",
      "text/plain": [
       "<Figure size 1440x1080 with 4 Axes>"
      ]
     },
     "metadata": {
      "needs_background": "light"
     },
     "output_type": "display_data"
    }
   ],
   "source": [
    "%matplotlib inline\n",
    "import matplotlib.pyplot as plt\n",
    "train_dataset.hist(bins=50, figsize=(20,15))\n",
    "save_fig(\"attribute_histogram_plots\")\n",
    "plt.show()"
   ]
  },
  {
   "cell_type": "code",
   "execution_count": 59,
   "metadata": {},
   "outputs": [],
   "source": [
    "import numpy as np\n",
    "np.random.seed(42)"
   ]
  },
  {
   "cell_type": "code",
   "execution_count": 60,
   "metadata": {},
   "outputs": [],
   "source": [
    "from sklearn.model_selection import train_test_split\n",
    "\n",
    "train_set, test_set = train_test_split(train_dataset, test_size=0.2, random_state=42)"
   ]
  },
  {
   "cell_type": "code",
   "execution_count": 61,
   "metadata": {},
   "outputs": [
    {
     "data": {
      "text/html": [
       "<div>\n",
       "<style scoped>\n",
       "    .dataframe tbody tr th:only-of-type {\n",
       "        vertical-align: middle;\n",
       "    }\n",
       "\n",
       "    .dataframe tbody tr th {\n",
       "        vertical-align: top;\n",
       "    }\n",
       "\n",
       "    .dataframe thead th {\n",
       "        text-align: right;\n",
       "    }\n",
       "</style>\n",
       "<table border=\"1\" class=\"dataframe\">\n",
       "  <thead>\n",
       "    <tr style=\"text-align: right;\">\n",
       "      <th></th>\n",
       "      <th>Id_Number</th>\n",
       "      <th>City</th>\n",
       "      <th>Gender</th>\n",
       "      <th>Age</th>\n",
       "      <th>Weight</th>\n",
       "      <th>Income</th>\n",
       "      <th>Illness</th>\n",
       "    </tr>\n",
       "  </thead>\n",
       "  <tbody>\n",
       "    <tr>\n",
       "      <th>51197</th>\n",
       "      <td>69692</td>\n",
       "      <td>New York City</td>\n",
       "      <td>Male</td>\n",
       "      <td>58</td>\n",
       "      <td>204.0</td>\n",
       "      <td>79816.0</td>\n",
       "      <td>No</td>\n",
       "    </tr>\n",
       "    <tr>\n",
       "      <th>112243</th>\n",
       "      <td>69838</td>\n",
       "      <td>NaN</td>\n",
       "      <td>Male</td>\n",
       "      <td>50</td>\n",
       "      <td>318.0</td>\n",
       "      <td>99858.0</td>\n",
       "      <td>No</td>\n",
       "    </tr>\n",
       "    <tr>\n",
       "      <th>93113</th>\n",
       "      <td>134499</td>\n",
       "      <td>San Diego</td>\n",
       "      <td>Female</td>\n",
       "      <td>32</td>\n",
       "      <td>NaN</td>\n",
       "      <td>103136.0</td>\n",
       "      <td>No</td>\n",
       "    </tr>\n",
       "    <tr>\n",
       "      <th>55475</th>\n",
       "      <td>140449</td>\n",
       "      <td>Austin</td>\n",
       "      <td>Female</td>\n",
       "      <td>30</td>\n",
       "      <td>NaN</td>\n",
       "      <td>69039.0</td>\n",
       "      <td>No</td>\n",
       "    </tr>\n",
       "    <tr>\n",
       "      <th>86691</th>\n",
       "      <td>82107</td>\n",
       "      <td>Los Angeles</td>\n",
       "      <td>Male</td>\n",
       "      <td>43</td>\n",
       "      <td>NaN</td>\n",
       "      <td>92660.0</td>\n",
       "      <td>Yes</td>\n",
       "    </tr>\n",
       "  </tbody>\n",
       "</table>\n",
       "</div>"
      ],
      "text/plain": [
       "        Id_Number           City  Gender  Age  Weight    Income Illness\n",
       "51197       69692  New York City    Male   58   204.0   79816.0      No\n",
       "112243      69838            NaN    Male   50   318.0   99858.0      No\n",
       "93113      134499      San Diego  Female   32     NaN  103136.0      No\n",
       "55475      140449         Austin  Female   30     NaN   69039.0      No\n",
       "86691       82107    Los Angeles    Male   43     NaN   92660.0     Yes"
      ]
     },
     "execution_count": 61,
     "metadata": {},
     "output_type": "execute_result"
    }
   ],
   "source": [
    "test_set.head()"
   ]
  },
  {
   "cell_type": "markdown",
   "metadata": {},
   "source": [
    "# Prepare the data set"
   ]
  },
  {
   "cell_type": "code",
   "execution_count": 62,
   "metadata": {},
   "outputs": [],
   "source": [
    "from sklearn.impute import SimpleImputer\n",
    "from sklearn.preprocessing import LabelEncoder\n",
    "\n",
    "prediction_column = [\"Illness\"]\n",
    "def preprocess_data(input_df):\n",
    "        \"\"\"\n",
    "        This method used to pre-process the data\n",
    "        :param input_df: input data frame to pre-process the data\n",
    "        :return: processed data set\n",
    "        \"\"\"\n",
    "        dict_illness = {'No': 0, 'Yes': 1}\n",
    "        dict_sex = {'Male': 0, 'Female': 1}\n",
    "        simple_imputer = SimpleImputer(strategy='mean')\n",
    "\n",
    "        # Id_Number,City,Gender,Age,Weight,Illness\n",
    "        data_columns = list(input_df.columns)\n",
    "        processed_dataset = input_df[data_columns].dropna()\n",
    "\n",
    "        simple_imputer.fit(processed_dataset[['Age']])\n",
    "        processed_dataset[['Age']] = simple_imputer.transform(processed_dataset[['Age']])\n",
    "\n",
    "        if \"Illness\" in data_columns:\n",
    "            processed_dataset['Illness'] = processed_dataset[prediction_column].replace(dict_illness)\n",
    "\n",
    "        processed_dataset['Gender'] = processed_dataset['Gender'].replace(dict_sex)\n",
    "        label_encoder = LabelEncoder()\n",
    "        processed_dataset['City'] = label_encoder.fit(processed_dataset[\"City\"])\\\n",
    "                                    .transform(processed_dataset[\"City\"])\n",
    "\n",
    "        return processed_dataset"
   ]
  },
  {
   "cell_type": "code",
   "execution_count": 63,
   "metadata": {},
   "outputs": [],
   "source": [
    "final_processed_train_dataset = preprocess_data(train_dataset)\n",
    "final_processed_test_dataset = preprocess_data(test_dataset)"
   ]
  },
  {
   "cell_type": "markdown",
   "metadata": {},
   "source": [
    "# Select and train a model "
   ]
  },
  {
   "cell_type": "code",
   "execution_count": 92,
   "metadata": {},
   "outputs": [],
   "source": [
    "feature_list = list(final_processed_train_dataset.columns)\n",
    "\n",
    "feature_index = '123'\n",
    "\n",
    "selected_features = [feature_list[int(feature_index)-1] for feature_index in str(feature_index)]\n",
    "\n",
    "    \n",
    "def split_train_dataset():\n",
    "    \"\"\"\n",
    "    This method will split the input training data set and select the user features\n",
    "    :return: X axis training data set , Y axis training data set,\n",
    "     X axis validation data set  and Y axis validation data set\n",
    "    \"\"\"\n",
    "    print(f'Features selected: {selected_features}')\n",
    "\n",
    "    train_size = 0.08\n",
    "\n",
    "    x_train, x_validation, y_train, y_validation = \\\n",
    "        train_test_split(final_processed_train_dataset[selected_features],\n",
    "                         final_processed_train_dataset[prediction_column], train_size=train_size)\n",
    "\n",
    "    return x_train, x_validation, y_train, y_validation"
   ]
  },
  {
   "cell_type": "code",
   "execution_count": 65,
   "metadata": {},
   "outputs": [
    {
     "name": "stdout",
     "output_type": "stream",
     "text": [
      "Features selected: ['Id_Number', 'City', 'Gender']\n"
     ]
    }
   ],
   "source": [
    "x_train, x_validation, y_train, y_validation = split_train_dataset()"
   ]
  },
  {
   "cell_type": "code",
   "execution_count": 66,
   "metadata": {},
   "outputs": [],
   "source": [
    "import pickle\n",
    "import time\n",
    "import logging\n",
    "\n",
    "\n",
    "from sklearn.model_selection import train_test_split\n",
    "from sklearn.ensemble._forest import RandomForestClassifier\n",
    "from sklearn.tree import DecisionTreeClassifier\n",
    "from sklearn.ensemble import GradientBoostingRegressor\n",
    "from sklearn.metrics import confusion_matrix\n",
    "    \n",
    "def build_model(x_train_data=None, y_train_data=None):\n",
    "    \"\"\"\n",
    "    BUILD REGRESSION MODEL WITH 0.68 and it will be > 91%\n",
    "    This method will receive X , Y training data set and build a model based on user choice\n",
    "    :param x_train_data: X axis training data set\n",
    "    :param y_train_data: Y axis training data set\n",
    "    :return: None\n",
    "    \"\"\"\n",
    "\n",
    "\n",
    "    clf = DecisionTreeClassifier().fit(x_train_data, y_train_data)\n",
    "\n",
    "    model_save_flag = 'Y'\n",
    "\n",
    "    if model_save_flag.upper() == 'Y':\n",
    "        t_stamp = time.strftime(\"%Y%m%d-%H%M%S\")\n",
    "        model_file = f\"{t_stamp}.DecisionTreeClassifier.pickle\"\n",
    "        with open(model_file, 'wb') as model_file_ref:\n",
    "            pickle.dump(clf, model_file_ref)\n",
    "\n",
    "        print(f'The model is built and saved as {model_file}...')\n",
    "\n",
    "    return clf\n"
   ]
  },
  {
   "cell_type": "code",
   "execution_count": 42,
   "metadata": {},
   "outputs": [
    {
     "name": "stdout",
     "output_type": "stream",
     "text": [
      "The model is built and saved as 20201116-154330.DecisionTreeClassifier.pickle...\n"
     ]
    }
   ],
   "source": [
    "selected_model = build_model(x_train_data=x_train, y_train_data=y_train)"
   ]
  },
  {
   "cell_type": "code",
   "execution_count": 66,
   "metadata": {},
   "outputs": [],
   "source": [
    "# Execute Model and Predict "
   ]
  },
  {
   "cell_type": "code",
   "execution_count": 67,
   "metadata": {},
   "outputs": [],
   "source": [
    "\n",
    "test_data_output_csv = \"test_data_y_pred.csv\"\n",
    "def execute_model_prediction(x_validation, y_validation):\n",
    "        \"\"\"\n",
    "        This method will execute the model predictions and save the predictions\n",
    "        :param x_validation: X axis validation set\n",
    "        :param y_validation: Y axis validation set\n",
    "        :return: None\n",
    "        \"\"\"\n",
    "        accuracy = selected_model.score(x_validation, y_validation)\n",
    "\n",
    "        print(f'The accuracy of the model is {accuracy:.5f}')\n",
    "\n",
    "        #print(\"Do you want to see the confusion matrix? (y/n)\")\n",
    "\n",
    "        confuse_mtx_flag = 'Y' #str(input().strip())\n",
    "\n",
    "        y_pred = selected_model.predict(x_validation)\n",
    "\n",
    "        if confuse_mtx_flag.upper() == 'Y':\n",
    "            print(confusion_matrix(y_validation, y_pred))\n",
    "\n",
    "        #print(\"Do you want to save the outcome for the test data ? (y/n)\")\n",
    "\n",
    "        outcome_flag = 'Y' #str(input().strip())\n",
    "\n",
    "        if outcome_flag.upper() == 'Y':\n",
    "            y_pred = selected_model.predict(final_processed_test_dataset[selected_features])\n",
    "            final_df = pd.DataFrame(y_pred,columns=[\"Illness\"])\n",
    "            #final_result_df = self.test_dataset.append(final_df[\"Illness\"])\n",
    "            list_of_values = final_df[\"Illness\"].tolist()\n",
    "            final_processed_test_dataset[\"Illness\"] = list_of_values\n",
    "            final_processed_test_dataset.to_csv(test_data_output_csv)\n",
    "           "
   ]
  },
  {
   "cell_type": "code",
   "execution_count": 49,
   "metadata": {},
   "outputs": [
    {
     "name": "stdout",
     "output_type": "stream",
     "text": [
      "The accuracy of the model is 0.85123\n",
      "[[27651  3613]\n",
      " [ 3452 12773]]\n"
     ]
    }
   ],
   "source": [
    "execute_model_prediction(x_validation, y_validation)"
   ]
  },
  {
   "cell_type": "code",
   "execution_count": 69,
   "metadata": {},
   "outputs": [
    {
     "data": {
      "text/plain": [
       "<AxesSubplot:>"
      ]
     },
     "execution_count": 69,
     "metadata": {},
     "output_type": "execute_result"
    },
    {
     "data": {
      "image/png": "[encoded data removed]",
      "text/plain": [
       "<Figure size 432x288 with 1 Axes>"
      ]
     },
     "metadata": {
      "needs_background": "light"
     },
     "output_type": "display_data"
    }
   ],
   "source": [
    "df = pd.read_csv(\"test_data_y_pred.csv\")\n",
    "\n",
    "pd.value_counts(df['Illness']).plot.barh(x='ABC', y='BVC')"
   ]
  },
  {
   "cell_type": "code",
   "execution_count": null,
   "metadata": {},
   "outputs": [],
   "source": [
    "#Random forest"
   ]
  },
  {
   "cell_type": "code",
   "execution_count": 93,
   "metadata": {},
   "outputs": [],
   "source": [
    "import pickle\n",
    "import time\n",
    "import logging\n",
    "warnings.filterwarnings(action=\"ignore\", message=\"^internal gelsd\")\n",
    "\n",
    "from sklearn.model_selection import train_test_split\n",
    "from sklearn.ensemble._forest import RandomForestClassifier\n",
    "from sklearn.tree import DecisionTreeClassifier\n",
    "from sklearn.ensemble import GradientBoostingRegressor\n",
    "from sklearn.metrics import confusion_matrix\n",
    "    \n",
    "def build_model(x_train_data=None, y_train_data=None):\n",
    "    \"\"\"\n",
    "    BUILD REGRESSION MODEL WITH 0.68 and it will be > 91%\n",
    "    This method will receive X , Y training data set and build a model based on user choice\n",
    "    :param x_train_data: X axis training data set\n",
    "    :param y_train_data: Y axis training data set\n",
    "    :return: None\n",
    "    \"\"\"\n",
    "\n",
    "\n",
    "    clf = RandomForestClassifier().fit(x_train_data, y_train_data)\n",
    "\n",
    "    model_save_flag = 'Y'\n",
    "\n",
    "    if model_save_flag.upper() == 'Y':\n",
    "        t_stamp = time.strftime(\"%Y%m%d-%H%M%S\")\n",
    "        model_file = f\"{t_stamp}.RandomForestClassifier.pickle\"\n",
    "        with open(model_file, 'wb') as model_file_ref:\n",
    "            pickle.dump(clf, model_file_ref)\n",
    "\n",
    "        print(f'The model is built and saved as {model_file}...')\n",
    "\n",
    "    return clf\n"
   ]
  },
  {
   "cell_type": "code",
   "execution_count": 94,
   "metadata": {},
   "outputs": [
    {
     "name": "stderr",
     "output_type": "stream",
     "text": [
      "<ipython-input-93-581382ad2eb2>:22: DataConversionWarning: A column-vector y was passed when a 1d array was expected. Please change the shape of y to (n_samples,), for example using ravel().\n",
      "  clf = RandomForestClassifier().fit(x_train_data, y_train_data)\n"
     ]
    },
    {
     "name": "stdout",
     "output_type": "stream",
     "text": [
      "The model is built and saved as 20201116-160057.RandomForestClassifier.pickle...\n"
     ]
    }
   ],
   "source": [
    "selected_model = build_model(x_train_data=x_train, y_train_data=y_train)"
   ]
  },
  {
   "cell_type": "code",
   "execution_count": 95,
   "metadata": {},
   "outputs": [],
   "source": [
    "test_data_output_csv = \"test_data_y_pred.csv\"\n",
    "def execute_model_prediction(x_validation, y_validation):\n",
    "        \"\"\"\n",
    "        This method will execute the model predictions and save the predictions\n",
    "        :param x_validation: X axis validation set\n",
    "        :param y_validation: Y axis validation set\n",
    "        :return: None\n",
    "        \"\"\"\n",
    "        accuracy = selected_model.score(x_validation, y_validation)\n",
    "\n",
    "        print(f'The accuracy of the model is {accuracy:.5f}')\n",
    "\n",
    "        #print(\"Do you want to see the confusion matrix? (y/n)\")\n",
    "\n",
    "        confuse_mtx_flag = 'Y' #str(input().strip())\n",
    "\n",
    "        y_pred = selected_model.predict(x_validation)\n",
    "\n",
    "        if confuse_mtx_flag.upper() == 'Y':\n",
    "            print(confusion_matrix(y_validation, y_pred))\n",
    "\n",
    "        #print(\"Do you want to save the outcome for the test data ? (y/n)\")\n",
    "\n",
    "        outcome_flag = 'Y' #str(input().strip())\n",
    "\n",
    "        if outcome_flag.upper() == 'Y':\n",
    "            y_pred = selected_model.predict(final_processed_test_dataset[selected_features])\n",
    "            final_df = pd.DataFrame(y_pred,columns=[\"Illness\"])\n",
    "            #final_result_df = self.test_dataset.append(final_df[\"Illness\"])\n",
    "            list_of_values = final_df[\"Illness\"].tolist()\n",
    "            final_processed_test_dataset[\"Illness\"] = list_of_values\n",
    "            final_processed_test_dataset.to_csv(test_data_output_csv)\n",
    "           "
   ]
  },
  {
   "cell_type": "code",
   "execution_count": 96,
   "metadata": {},
   "outputs": [
    {
     "name": "stdout",
     "output_type": "stream",
     "text": [
      "The accuracy of the model is 0.85289\n",
      "[[27733  3531]\n",
      " [ 3455 12770]]\n"
     ]
    }
   ],
   "source": [
    "execute_model_prediction(x_validation, y_validation)"
   ]
  },
  {
   "cell_type": "code",
   "execution_count": 97,
   "metadata": {},
   "outputs": [
    {
     "data": {
      "text/plain": [
       "<AxesSubplot:>"
      ]
     },
     "execution_count": 97,
     "metadata": {},
     "output_type": "execute_result"
    },
    {
     "data": {
      "image/png": "[encoded data removed]",
      "text/plain": [
       "<Figure size 432x288 with 1 Axes>"
      ]
     },
     "metadata": {
      "needs_background": "light"
     },
     "output_type": "display_data"
    }
   ],
   "source": [
    "df = pd.read_csv(\"test_data_y_pred.csv\")\n",
    "\n",
    "pd.value_counts(df['Illness']).plot.barh(x='ABC', y='BVC')"
   ]
  },
  {
   "cell_type": "code",
   "execution_count": null,
   "metadata": {},
   "outputs": [],
   "source": [
    "#Naive Bayes"
   ]
  },
  {
   "cell_type": "code",
   "execution_count": 107,
   "metadata": {},
   "outputs": [],
   "source": [
    "import pickle\n",
    "import time\n",
    "import logging\n",
    "warnings.filterwarnings(action=\"ignore\", message=\"^internal gelsd\")\n",
    "\n",
    "from sklearn.model_selection import train_test_split\n",
    "from sklearn.ensemble._forest import RandomForestClassifier\n",
    "from sklearn.tree import DecisionTreeClassifier\n",
    "from sklearn.metrics import confusion_matrix\n",
    "from sklearn.naive_bayes import GaussianNB\n",
    "\n",
    "def build_model(x_train_data=None, y_train_data=None):\n",
    "    \"\"\"\n",
    "    BUILD REGRESSION MODEL WITH 0.68 and it will be > 91%\n",
    "    This method will receive X , Y training data set and build a model based on user choice\n",
    "    :param x_train_data: X axis training data set\n",
    "    :param y_train_data: Y axis training data set\n",
    "    :return: None\n",
    "    \"\"\"\n",
    "\n",
    "\n",
    "    clf = GaussianNB().fit(x_train_data, y_train_data)\n",
    "\n",
    "    model_save_flag = 'Y'\n",
    "\n",
    "    if model_save_flag.upper() == 'Y':\n",
    "        t_stamp = time.strftime(\"%Y%m%d-%H%M%S\")\n",
    "        model_file = f\"{t_stamp}.GaussianNB.pickle\"\n",
    "        with open(model_file, 'wb') as model_file_ref:\n",
    "            pickle.dump(clf, model_file_ref)\n",
    "\n",
    "        print(f'The model is built and saved as {model_file}...')\n",
    "\n",
    "    return clf"
   ]
  },
  {
   "cell_type": "code",
   "execution_count": 108,
   "metadata": {},
   "outputs": [
    {
     "name": "stdout",
     "output_type": "stream",
     "text": [
      "The model is built and saved as 20201116-160908.GaussianNB.pickle...\n"
     ]
    },
    {
     "name": "stderr",
     "output_type": "stream",
     "text": [
      "/Users/preethi/Downloads/python3env/lib/python3.9/site-packages/sklearn/utils/validation.py:72: DataConversionWarning: A column-vector y was passed when a 1d array was expected. Please change the shape of y to (n_samples, ), for example using ravel().\n",
      "  return f(**kwargs)\n"
     ]
    }
   ],
   "source": [
    "selected_model = build_model(x_train_data=x_train, y_train_data=y_train)"
   ]
  },
  {
   "cell_type": "code",
   "execution_count": 109,
   "metadata": {},
   "outputs": [],
   "source": [
    "test_data_output_csv = \"test_data_y_pred.csv\"\n",
    "def execute_model_prediction(x_validation, y_validation):\n",
    "        \"\"\"\n",
    "        This method will execute the model predictions and save the predictions\n",
    "        :param x_validation: X axis validation set\n",
    "        :param y_validation: Y axis validation set\n",
    "        :return: None\n",
    "        \"\"\"\n",
    "        accuracy = selected_model.score(x_validation, y_validation)\n",
    "\n",
    "        print(f'The accuracy of the model is {accuracy:.5f}')\n",
    "\n",
    "        #print(\"Do you want to see the confusion matrix? (y/n)\")\n",
    "\n",
    "        confuse_mtx_flag = 'Y' #str(input().strip())\n",
    "\n",
    "        y_pred = selected_model.predict(x_validation)\n",
    "\n",
    "        if confuse_mtx_flag.upper() == 'Y':\n",
    "            print(confusion_matrix(y_validation, y_pred))\n",
    "\n",
    "        #print(\"Do you want to save the outcome for the test data ? (y/n)\")\n",
    "\n",
    "        outcome_flag = 'Y' #str(input().strip())\n",
    "\n",
    "        if outcome_flag.upper() == 'Y':\n",
    "            y_pred = selected_model.predict(final_processed_test_dataset[selected_features])\n",
    "            final_df = pd.DataFrame(y_pred,columns=[\"Illness\"])\n",
    "            #final_result_df = self.test_dataset.append(final_df[\"Illness\"])\n",
    "            list_of_values = final_df[\"Illness\"].tolist()\n",
    "            final_processed_test_dataset[\"Illness\"] = list_of_values\n",
    "            final_processed_test_dataset.to_csv(test_data_output_csv)"
   ]
  },
  {
   "cell_type": "code",
   "execution_count": 110,
   "metadata": {},
   "outputs": [
    {
     "name": "stdout",
     "output_type": "stream",
     "text": [
      "The accuracy of the model is 0.92040\n",
      "[[30113  1151]\n",
      " [ 2629 13596]]\n"
     ]
    }
   ],
   "source": [
    "execute_model_prediction(x_validation, y_validation)"
   ]
  },
  {
   "cell_type": "code",
   "execution_count": 111,
   "metadata": {},
   "outputs": [
    {
     "data": {
      "text/plain": [
       "<AxesSubplot:>"
      ]
     },
     "execution_count": 111,
     "metadata": {},
     "output_type": "execute_result"
    },
    {
     "data": {
      "image/png": "[encoded data removed]",
      "text/plain": [
       "<Figure size 432x288 with 1 Axes>"
      ]
     },
     "metadata": {
      "needs_background": "light"
     },
     "output_type": "display_data"
    }
   ],
   "source": [
    "df = pd.read_csv(\"test_data_y_pred.csv\")\n",
    "\n",
    "pd.value_counts(df['Illness']).plot.barh(x='ABC', y='BVC')"
   ]
  },
  {
   "cell_type": "code",
   "execution_count": null,
   "metadata": {},
   "outputs": [],
   "source": []
  }
 ],
 "metadata": {
  "kernelspec": {
   "display_name": "Python 3",
   "language": "python",
   "name": "python3"
  },
  "language_info": {
   "codemirror_mode": {
    "name": "ipython",
    "version": 3
   },
   "file_extension": ".py",
   "mimetype": "text/x-python",
   "name": "python",
   "nbconvert_exporter": "python",
   "pygments_lexer": "ipython3",
   "version": "3.9.0"
  }
 },
 "nbformat": 4,
 "nbformat_minor": 4
}
